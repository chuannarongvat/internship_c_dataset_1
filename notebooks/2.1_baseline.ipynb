{
 "cells": [
  {
   "cell_type": "code",
   "execution_count": 2,
   "id": "c4387930-a42e-4f17-bc4b-b5d237e01a57",
   "metadata": {
    "tags": []
   },
   "outputs": [],
   "source": [
    "%load_ext autoreload\n",
    "%autoreload 2"
   ]
  },
  {
   "cell_type": "markdown",
   "id": "2f83bdf4-e07d-44e7-92fc-e752c1949081",
   "metadata": {},
   "source": [
    "# Applying CRIPS-DM Methodology to a Business Problem"
   ]
  },
  {
   "cell_type": "markdown",
   "id": "8eb68d29-05b3-4953-bdb5-5c5fcb5de84f",
   "metadata": {},
   "source": [
    "## Dataset 1 - Predicting Customer Churn in the Telecomunication Provider"
   ]
  },
  {
   "cell_type": "markdown",
   "id": "a2c12037-4de7-45e5-8bb4-8cef8c38064e",
   "metadata": {},
   "source": [
    "## 3. Modeling"
   ]
  },
  {
   "cell_type": "markdown",
   "id": "74a1038d-596f-47e8-a5cf-e791817a4ab5",
   "metadata": {},
   "source": [
    "### 3.1. Baseline Model"
   ]
  },
  {
   "cell_type": "code",
   "execution_count": 1,
   "id": "cb0ef1ee-e31e-4015-a6b4-01eeb813b436",
   "metadata": {
    "tags": []
   },
   "outputs": [],
   "source": [
    "import pandas as pd\n",
    "import numpy as np"
   ]
  },
  {
   "cell_type": "code",
   "execution_count": 17,
   "id": "6afc1a9c-dbfd-4915-8a89-1fbe6cf31344",
   "metadata": {
    "tags": []
   },
   "outputs": [],
   "source": [
    "X_train = pd.read_csv('../data/processed/X_train.csv')\n",
    "y_train = pd.read_csv('../data/processed/y_train.csv')\n",
    "X_val = pd.read_csv('../data/processed/X_val.csv')\n",
    "y_val = pd.read_csv('../data/processed/y_val.csv')\n",
    "X_test = pd.read_csv('../data/processed/X_test.csv')\n",
    "y_test = pd.read_csv('../data/processed/y_test.csv')"
   ]
  },
  {
   "cell_type": "code",
   "execution_count": 18,
   "id": "dd607439-5d72-496d-9391-de3bbdf94fd0",
   "metadata": {
    "tags": []
   },
   "outputs": [
    {
     "data": {
      "text/plain": [
       "churn\n",
       "0        2338\n",
       "1        2338\n",
       "Name: count, dtype: int64"
      ]
     },
     "execution_count": 18,
     "metadata": {},
     "output_type": "execute_result"
    }
   ],
   "source": [
    "y_train.value_counts()"
   ]
  },
  {
   "cell_type": "code",
   "execution_count": 19,
   "id": "6b03b8a8-c7e1-4d32-9af0-d98891957e57",
   "metadata": {
    "tags": []
   },
   "outputs": [],
   "source": [
    "y_mode = y_train['churn'].mode().values[0]"
   ]
  },
  {
   "cell_type": "code",
   "execution_count": 20,
   "id": "7e046f5a-67d8-4202-9614-ca522e06cbda",
   "metadata": {
    "tags": []
   },
   "outputs": [],
   "source": [
    "y_shape = (len(X_train), 1)\n",
    "y_base = np.full(y_shape, y_mode)"
   ]
  },
  {
   "cell_type": "code",
   "execution_count": 32,
   "id": "44602408-4398-4247-b59d-032303e305bc",
   "metadata": {
    "tags": []
   },
   "outputs": [],
   "source": [
    "from sklearn.metrics import accuracy_score, f1_score, precision_score, recall_score, roc_auc_score"
   ]
  },
  {
   "cell_type": "code",
   "execution_count": 45,
   "id": "cbdf9acc-dc27-407b-80da-8acdb1c86773",
   "metadata": {
    "tags": []
   },
   "outputs": [],
   "source": [
    "baseline_accuracy = accuracy_score(y_train, y_base)\n",
    "baseline_precision = precision_score(y_train, y_base, zero_division=1)\n",
    "baseline_recall = recall_score(y_train, y_base)\n",
    "baseline_f1 = f1_score(y_train, y_base)\n",
    "baseline_roc_auc = roc_auc_score(y_train, y_base)"
   ]
  },
  {
   "cell_type": "code",
   "execution_count": 46,
   "id": "f4040f51-f699-4e16-a22e-f37c6fb50270",
   "metadata": {
    "tags": []
   },
   "outputs": [],
   "source": [
    "baseline_model = pd.DataFrame({\n",
    "    'accuracy': baseline_accuracy,\n",
    "    'precision': baseline_precision,\n",
    "    'recall': baseline_recall,\n",
    "    'f1-score': baseline_f1,\n",
    "    'roc-auc': baseline_roc_auc}, index=['Baseline'])"
   ]
  },
  {
   "cell_type": "code",
   "execution_count": 47,
   "id": "c0ad2a0b-1f9a-4c5c-a25a-4a568c0e19f7",
   "metadata": {
    "tags": []
   },
   "outputs": [
    {
     "data": {
      "text/html": [
       "<div>\n",
       "<style scoped>\n",
       "    .dataframe tbody tr th:only-of-type {\n",
       "        vertical-align: middle;\n",
       "    }\n",
       "\n",
       "    .dataframe tbody tr th {\n",
       "        vertical-align: top;\n",
       "    }\n",
       "\n",
       "    .dataframe thead th {\n",
       "        text-align: right;\n",
       "    }\n",
       "</style>\n",
       "<table border=\"1\" class=\"dataframe\">\n",
       "  <thead>\n",
       "    <tr style=\"text-align: right;\">\n",
       "      <th></th>\n",
       "      <th>accuracy</th>\n",
       "      <th>precision</th>\n",
       "      <th>recall</th>\n",
       "      <th>f1-score</th>\n",
       "      <th>roc-auc</th>\n",
       "    </tr>\n",
       "  </thead>\n",
       "  <tbody>\n",
       "    <tr>\n",
       "      <th>Baseline</th>\n",
       "      <td>0.5</td>\n",
       "      <td>1.0</td>\n",
       "      <td>0.0</td>\n",
       "      <td>0.0</td>\n",
       "      <td>0.5</td>\n",
       "    </tr>\n",
       "  </tbody>\n",
       "</table>\n",
       "</div>"
      ],
      "text/plain": [
       "          accuracy  precision  recall  f1-score  roc-auc\n",
       "Baseline       0.5        1.0     0.0       0.0      0.5"
      ]
     },
     "execution_count": 47,
     "metadata": {},
     "output_type": "execute_result"
    }
   ],
   "source": [
    "baseline_model"
   ]
  },
  {
   "cell_type": "markdown",
   "id": "de1cbe21-8d30-4c5a-9ac9-52e3210b3eb1",
   "metadata": {},
   "source": [
    "**- Accuracy = 0.5:** An accuracy of 0.5 suggests that the model is performing at par level. It's predicting as random guessing.\n",
    "\n",
    "**- Precision = 1.0:** A precision of 1.0 mean that the model always predict the positive label correct.\n",
    "\n",
    "**- Recall = 0.0:** On the other hand, the recall of 0.0 stated that model is not identify any of the true positive cases.\n",
    "\n",
    "**- F1-score = 0.0:** A f1-score of 0.0 suggest that the model's precision and recall are very low or equal to zero.\n",
    "\n",
    "**- Roc-auc = 0.5:** A score of 0.5 mean that the model's ability to classifying between classes is equivalent to guessing.\n"
   ]
  },
  {
   "cell_type": "markdown",
   "id": "c79588ca-0062-48ac-ba9e-d5d6dea00c2d",
   "metadata": {},
   "source": [
    "The result show that the baseline model, which is using the mode of the y labels, is not performing well. While the precision and roc-auc score seems to be high, but the recall is 0.0 suggest that the model cannot identifying any true positives cases."
   ]
  },
  {
   "cell_type": "code",
   "execution_count": null,
   "id": "97374954-21d2-4861-bdb8-4acbccc92b54",
   "metadata": {},
   "outputs": [],
   "source": []
  }
 ],
 "metadata": {
  "kernelspec": {
   "display_name": "Python 3 (ipykernel)",
   "language": "python",
   "name": "python3"
  },
  "language_info": {
   "codemirror_mode": {
    "name": "ipython",
    "version": 3
   },
   "file_extension": ".py",
   "mimetype": "text/x-python",
   "name": "python",
   "nbconvert_exporter": "python",
   "pygments_lexer": "ipython3",
   "version": "3.9.13"
  }
 },
 "nbformat": 4,
 "nbformat_minor": 5
}
