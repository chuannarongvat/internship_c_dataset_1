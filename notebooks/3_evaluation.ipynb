{
 "cells": [
  {
   "cell_type": "code",
   "execution_count": 1,
   "id": "8b0a1132-3618-46a7-abfd-e7b00aede13a",
   "metadata": {
    "tags": []
   },
   "outputs": [],
   "source": [
    "%load_ext autoreload\n",
    "%autoreload 2"
   ]
  },
  {
   "cell_type": "markdown",
   "id": "3593c97b-47f0-4521-bd54-68f480f60461",
   "metadata": {},
   "source": [
    "# Applying CRIPS-DM Methodology to a Business Problem"
   ]
  },
  {
   "cell_type": "markdown",
   "id": "be924f93-6007-45e9-a20c-f4db3843f0a1",
   "metadata": {},
   "source": [
    "## Dataset 1 - Predicting Customer Churn in the Telecomunication Provider"
   ]
  },
  {
   "cell_type": "markdown",
   "id": "32484755-b789-44cd-b025-a53b2c71140e",
   "metadata": {},
   "source": [
    "## 4. Evaluation"
   ]
  },
  {
   "cell_type": "code",
   "execution_count": 1,
   "id": "6da90d74-1c2a-4325-a024-22128d5e3496",
   "metadata": {
    "tags": []
   },
   "outputs": [],
   "source": [
    "import pandas as pd\n",
    "import numpy as np\n",
    "import matplotlib.pyplot as plt"
   ]
  },
  {
   "cell_type": "code",
   "execution_count": 4,
   "id": "3b93324c-7731-424c-8788-f58b16981506",
   "metadata": {
    "tags": []
   },
   "outputs": [],
   "source": [
    "logistic = pd.read_csv('../data/processed/model/1_logistic.csv')\n",
    "svm_smote = pd.read_csv('../data/processed/model/2_svm_smote.csv')\n",
    "svm = pd.read_csv('../data/processed/model/2_svm.csv')\n",
    "dt_smote = pd.read_csv('../data/processed/model/3_dt_smote.csv')\n",
    "dt = pd.read_csv('../data/processed/model/3_dt.csv')\n",
    "rf_smote = pd.read_csv('../data/processed/model/4_rf_smote.csv')\n",
    "rf = pd.read_csv('../data/processed/model/4_rf.csv')\n",
    "gb_smote = pd.read_csv('../data/processed/model/5_gb_smote.csv')\n",
    "gb = pd.read_csv('../data/processed/model/5_gb.csv')\n"
   ]
  },
  {
   "cell_type": "code",
   "execution_count": 29,
   "id": "d9aeb277-6af6-4b7b-a802-a1e4ca2f82dc",
   "metadata": {
    "tags": []
   },
   "outputs": [],
   "source": [
    "models = {\n",
    "    'Logistic Regression': logistic,\n",
    "    'Support Vector Machine - SMOTE': svm_smote,\n",
    "    'Support Vector Machine': svm,\n",
    "    'Decision Tree - SMOTE': dt_smote,\n",
    "    'Decision Tree': dt,\n",
    "    'Random Forest - SMOTE': rf_smote,\n",
    "    'Random Forest': rf,\n",
    "    'Gradient Boosting - SMOTE': gb_smote,\n",
    "    'Gradient Boosting': gb\n",
    "}"
   ]
  },
  {
   "cell_type": "code",
   "execution_count": 30,
   "id": "1e7b9f08-7152-497f-b074-381879e5ddf6",
   "metadata": {
    "tags": []
   },
   "outputs": [],
   "source": [
    "all_models = pd.concat(models, keys=models.keys())"
   ]
  },
  {
   "cell_type": "code",
   "execution_count": 32,
   "id": "ecdee1c0-9b56-4a70-8432-426116b60927",
   "metadata": {
    "tags": []
   },
   "outputs": [],
   "source": [
    "all_models = all_models.reset_index(level=1, drop=True)"
   ]
  },
  {
   "cell_type": "code",
   "execution_count": 35,
   "id": "2fe98ead-edff-4653-be28-57bdb37cda0d",
   "metadata": {
    "tags": []
   },
   "outputs": [
    {
     "data": {
      "text/html": [
       "<div>\n",
       "<style scoped>\n",
       "    .dataframe tbody tr th:only-of-type {\n",
       "        vertical-align: middle;\n",
       "    }\n",
       "\n",
       "    .dataframe tbody tr th {\n",
       "        vertical-align: top;\n",
       "    }\n",
       "\n",
       "    .dataframe thead th {\n",
       "        text-align: right;\n",
       "    }\n",
       "</style>\n",
       "<table border=\"1\" class=\"dataframe\">\n",
       "  <thead>\n",
       "    <tr style=\"text-align: right;\">\n",
       "      <th></th>\n",
       "      <th>accuracy</th>\n",
       "      <th>precision</th>\n",
       "      <th>recall</th>\n",
       "      <th>f1-score</th>\n",
       "      <th>roc-auc</th>\n",
       "    </tr>\n",
       "  </thead>\n",
       "  <tbody>\n",
       "    <tr>\n",
       "      <th>Decision Tree</th>\n",
       "      <td>0.766176</td>\n",
       "      <td>0.347826</td>\n",
       "      <td>0.750000</td>\n",
       "      <td>0.475248</td>\n",
       "      <td>0.827367</td>\n",
       "    </tr>\n",
       "    <tr>\n",
       "      <th>Decision Tree - SMOTE</th>\n",
       "      <td>0.829412</td>\n",
       "      <td>0.426471</td>\n",
       "      <td>0.604167</td>\n",
       "      <td>0.500000</td>\n",
       "      <td>0.786779</td>\n",
       "    </tr>\n",
       "    <tr>\n",
       "      <th>Gradient Boosting</th>\n",
       "      <td>0.916176</td>\n",
       "      <td>0.782609</td>\n",
       "      <td>0.562500</td>\n",
       "      <td>0.654545</td>\n",
       "      <td>0.836116</td>\n",
       "    </tr>\n",
       "    <tr>\n",
       "      <th>Support Vector Machine</th>\n",
       "      <td>0.842647</td>\n",
       "      <td>0.452991</td>\n",
       "      <td>0.552083</td>\n",
       "      <td>0.497653</td>\n",
       "      <td>0.764421</td>\n",
       "    </tr>\n",
       "    <tr>\n",
       "      <th>Gradient Boosting - SMOTE</th>\n",
       "      <td>0.913235</td>\n",
       "      <td>0.793651</td>\n",
       "      <td>0.520833</td>\n",
       "      <td>0.628931</td>\n",
       "      <td>0.827822</td>\n",
       "    </tr>\n",
       "    <tr>\n",
       "      <th>Random Forest</th>\n",
       "      <td>0.892647</td>\n",
       "      <td>0.657534</td>\n",
       "      <td>0.500000</td>\n",
       "      <td>0.568047</td>\n",
       "      <td>0.815907</td>\n",
       "    </tr>\n",
       "    <tr>\n",
       "      <th>Random Forest - SMOTE</th>\n",
       "      <td>0.861765</td>\n",
       "      <td>0.511905</td>\n",
       "      <td>0.447917</td>\n",
       "      <td>0.477778</td>\n",
       "      <td>0.783604</td>\n",
       "    </tr>\n",
       "    <tr>\n",
       "      <th>Support Vector Machine - SMOTE</th>\n",
       "      <td>0.864706</td>\n",
       "      <td>0.528571</td>\n",
       "      <td>0.385417</td>\n",
       "      <td>0.445783</td>\n",
       "      <td>0.730825</td>\n",
       "    </tr>\n",
       "    <tr>\n",
       "      <th>Logistic Regression</th>\n",
       "      <td>0.875000</td>\n",
       "      <td>0.612245</td>\n",
       "      <td>0.312500</td>\n",
       "      <td>0.413793</td>\n",
       "      <td>0.715308</td>\n",
       "    </tr>\n",
       "  </tbody>\n",
       "</table>\n",
       "</div>"
      ],
      "text/plain": [
       "                                accuracy  precision    recall  f1-score   \n",
       "Decision Tree                   0.766176   0.347826  0.750000  0.475248  \\\n",
       "Decision Tree - SMOTE           0.829412   0.426471  0.604167  0.500000   \n",
       "Gradient Boosting               0.916176   0.782609  0.562500  0.654545   \n",
       "Support Vector Machine          0.842647   0.452991  0.552083  0.497653   \n",
       "Gradient Boosting - SMOTE       0.913235   0.793651  0.520833  0.628931   \n",
       "Random Forest                   0.892647   0.657534  0.500000  0.568047   \n",
       "Random Forest - SMOTE           0.861765   0.511905  0.447917  0.477778   \n",
       "Support Vector Machine - SMOTE  0.864706   0.528571  0.385417  0.445783   \n",
       "Logistic Regression             0.875000   0.612245  0.312500  0.413793   \n",
       "\n",
       "                                 roc-auc  \n",
       "Decision Tree                   0.827367  \n",
       "Decision Tree - SMOTE           0.786779  \n",
       "Gradient Boosting               0.836116  \n",
       "Support Vector Machine          0.764421  \n",
       "Gradient Boosting - SMOTE       0.827822  \n",
       "Random Forest                   0.815907  \n",
       "Random Forest - SMOTE           0.783604  \n",
       "Support Vector Machine - SMOTE  0.730825  \n",
       "Logistic Regression             0.715308  "
      ]
     },
     "execution_count": 35,
     "metadata": {},
     "output_type": "execute_result"
    }
   ],
   "source": [
    "all_models.sort_values(by='recall', ascending=False)"
   ]
  },
  {
   "cell_type": "markdown",
   "id": "562c00f0-517c-4efb-b602-6b4ee6b3cf9e",
   "metadata": {},
   "source": [
    "From the result above, the models with higher recall would be more suitable for our cases (Churn Prediction). We will try to see how was the model **(Decision Tree)** performing to the unseen data - the test set."
   ]
  },
  {
   "cell_type": "code",
   "execution_count": 37,
   "id": "4d6622a4-7991-40a1-8aac-5e5a79f95421",
   "metadata": {
    "tags": []
   },
   "outputs": [],
   "source": [
    "import joblib"
   ]
  },
  {
   "cell_type": "code",
   "execution_count": 39,
   "id": "759efb5d-1997-4648-a9d0-cfbc2ff44036",
   "metadata": {
    "tags": []
   },
   "outputs": [],
   "source": [
    "decision_tree = joblib.load('../models/decision_tree.joblib')"
   ]
  },
  {
   "cell_type": "code",
   "execution_count": 40,
   "id": "e2d4bd78-e255-4494-9303-d33c4dc875a1",
   "metadata": {
    "tags": []
   },
   "outputs": [],
   "source": [
    "X_test = pd.read_csv('../data/processed/X_test.csv')\n",
    "y_test = pd.read_csv('../data/processed/y_test.csv')"
   ]
  },
  {
   "cell_type": "code",
   "execution_count": 45,
   "id": "27543f7a-0de4-44f3-93e1-71aca096cfd1",
   "metadata": {
    "tags": []
   },
   "outputs": [],
   "source": [
    "from sklearn.metrics import accuracy_score, precision_score, recall_score, f1_score, roc_auc_score, ConfusionMatrixDisplay"
   ]
  },
  {
   "cell_type": "code",
   "execution_count": 46,
   "id": "40d85ba9-6dce-485f-87f7-b3f7b5bf618b",
   "metadata": {
    "tags": []
   },
   "outputs": [],
   "source": [
    "y_preds = decision_tree.predict(X_test)"
   ]
  },
  {
   "cell_type": "code",
   "execution_count": 47,
   "id": "6e48aaf2-5242-4521-9ff6-c27909ef5790",
   "metadata": {
    "tags": []
   },
   "outputs": [],
   "source": [
    "accuracy = accuracy_score(y_test, y_preds)\n",
    "precision = precision_score(y_test, y_preds)\n",
    "recall = recall_score(y_test, y_preds)\n",
    "f1 = f1_score(y_test, y_preds)\n",
    "roc_auc = roc_auc_score(y_test, y_preds)"
   ]
  },
  {
   "cell_type": "code",
   "execution_count": 49,
   "id": "da921e04-0e31-47a2-8c66-f3938947efdd",
   "metadata": {
    "tags": []
   },
   "outputs": [
    {
     "name": "stdout",
     "output_type": "stream",
     "text": [
      "Accuracy: 0.76\n",
      "Precision: 0.34\n",
      "Recall: 0.78\n",
      "F1-score: 0.47\n",
      "Roc-auc: 0.76\n"
     ]
    }
   ],
   "source": [
    "print(f\"Accuracy: {accuracy:.2f}\")\n",
    "print(f\"Precision: {precision:.2f}\")\n",
    "print(f\"Recall: {recall:.2f}\")\n",
    "print(f\"F1-score: {f1:.2f}\")\n",
    "print(f\"Roc-auc: {roc_auc:.2f}\")"
   ]
  },
  {
   "cell_type": "code",
   "execution_count": 52,
   "id": "c9640bd5-e1fb-430d-8ea8-385a9571d1e5",
   "metadata": {
    "tags": []
   },
   "outputs": [
    {
     "data": {
      "text/plain": [
       "<sklearn.metrics._plot.confusion_matrix.ConfusionMatrixDisplay at 0x282f332b0>"
      ]
     },
     "execution_count": 52,
     "metadata": {},
     "output_type": "execute_result"
    },
    {
     "data": {
      "image/png": "[encoded data removed]",
      "text/plain": [
       "<Figure size 640x480 with 2 Axes>"
      ]
     },
     "metadata": {},
     "output_type": "display_data"
    }
   ],
   "source": [
    "ConfusionMatrixDisplay.from_estimator(decision_tree, X_test, y_test, normalize='true')"
   ]
  }
 ],
 "metadata": {
  "kernelspec": {
   "display_name": "Python 3 (ipykernel)",
   "language": "python",
   "name": "python3"
  },
  "language_info": {
   "codemirror_mode": {
    "name": "ipython",
    "version": 3
   },
   "file_extension": ".py",
   "mimetype": "text/x-python",
   "name": "python",
   "nbconvert_exporter": "python",
   "pygments_lexer": "ipython3",
   "version": "3.9.13"
  }
 },
 "nbformat": 4,
 "nbformat_minor": 5
}
