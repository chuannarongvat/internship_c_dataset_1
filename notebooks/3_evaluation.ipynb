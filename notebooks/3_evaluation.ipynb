{
 "cells": [
  {
   "cell_type": "code",
   "execution_count": 1,
   "id": "8b0a1132-3618-46a7-abfd-e7b00aede13a",
   "metadata": {
    "tags": []
   },
   "outputs": [],
   "source": [
    "%load_ext autoreload\n",
    "%autoreload 2"
   ]
  },
  {
   "cell_type": "markdown",
   "id": "3593c97b-47f0-4521-bd54-68f480f60461",
   "metadata": {},
   "source": [
    "# Applying CRIPS-DM Methodology to a Business Problem"
   ]
  },
  {
   "cell_type": "markdown",
   "id": "be924f93-6007-45e9-a20c-f4db3843f0a1",
   "metadata": {},
   "source": [
    "## Dataset 1 - Predicting Customer Churn in the Telecomunication Provider"
   ]
  },
  {
   "cell_type": "markdown",
   "id": "32484755-b789-44cd-b025-a53b2c71140e",
   "metadata": {},
   "source": [
    "## 4. Evaluation"
   ]
  },
  {
   "cell_type": "markdown",
   "id": "2c244205-49bd-4305-996c-d52c3f64aa63",
   "metadata": {},
   "source": [
    "In our experimentation, our target was to address the imbalanced class distribution of the target variable using two different techniques:\n",
    "\n",
    "**1. Applying Synthetic Minority Over-sampling Technique (SMOTE):** Our first approach is using the oversampling the minority class to balance the dataset.\n",
    "\n",
    "**2. Utilizing the 'class_weight = balanced' parameter** The second technique is adjusting the class weights during the modelling phase. We will give higher weights to the minority class, influencing the model to place greate attention on predicting the churn cases.\n",
    "\n",
    "Both of these techniques give us the distinct model performance, pointing out the importance of the trade-off in churn prediction.\n",
    "\n",
    "Given our business problem, predicting the churn, we would priority more on accurately identifying potential churn cases. With that being said, we will prioritize the 'True Positive' rate, known as recall as 2e want to capture as many churn cases as possible, even if it would ends up on lower the precision score. This signifies that our model may predict customers to churn, even if they ultimately do not. "
   ]
  },
  {
   "cell_type": "code",
   "execution_count": 2,
   "id": "6da90d74-1c2a-4325-a024-22128d5e3496",
   "metadata": {
    "tags": []
   },
   "outputs": [],
   "source": [
    "import pandas as pd\n",
    "import numpy as np\n",
    "import matplotlib.pyplot as plt"
   ]
  },
  {
   "cell_type": "code",
   "execution_count": 3,
   "id": "3b93324c-7731-424c-8788-f58b16981506",
   "metadata": {
    "tags": []
   },
   "outputs": [],
   "source": [
    "logistic = pd.read_csv('../data/processed/model/1_logistic.csv')\n",
    "svm_smote = pd.read_csv('../data/processed/model/2_svm_smote.csv')\n",
    "svm = pd.read_csv('../data/processed/model/2_svm.csv')\n",
    "dt_smote = pd.read_csv('../data/processed/model/3_dt_smote.csv')\n",
    "dt = pd.read_csv('../data/processed/model/3_dt.csv')\n",
    "rf_smote = pd.read_csv('../data/processed/model/4_rf_smote.csv')\n",
    "rf = pd.read_csv('../data/processed/model/4_rf.csv')\n",
    "gb_smote = pd.read_csv('../data/processed/model/5_gb_smote.csv')\n",
    "gb = pd.read_csv('../data/processed/model/5_gb.csv')\n",
    "baseline = pd.read_csv('../data/processed/model/0_baseline_model.csv')\n"
   ]
  },
  {
   "cell_type": "code",
   "execution_count": 4,
   "id": "d9aeb277-6af6-4b7b-a802-a1e4ca2f82dc",
   "metadata": {
    "tags": []
   },
   "outputs": [],
   "source": [
    "models = {\n",
    "    'Logistic Regression': logistic,\n",
    "    'Support Vector Machine - SMOTE': svm_smote,\n",
    "    'Support Vector Machine': svm,\n",
    "    'Decision Tree - SMOTE': dt_smote,\n",
    "    'Decision Tree': dt,\n",
    "    'Random Forest - SMOTE': rf_smote,\n",
    "    'Random Forest': rf,\n",
    "    'Gradient Boosting - SMOTE': gb_smote,\n",
    "    'Gradient Boosting': gb,\n",
    "    'Baseline - Mode': baseline\n",
    "}"
   ]
  },
  {
   "cell_type": "code",
   "execution_count": 5,
   "id": "1e7b9f08-7152-497f-b074-381879e5ddf6",
   "metadata": {
    "tags": []
   },
   "outputs": [],
   "source": [
    "all_models = pd.concat(models, keys=models.keys())"
   ]
  },
  {
   "cell_type": "code",
   "execution_count": 6,
   "id": "ecdee1c0-9b56-4a70-8432-426116b60927",
   "metadata": {
    "tags": []
   },
   "outputs": [],
   "source": [
    "all_models = all_models.reset_index(level=1, drop=True)"
   ]
  },
  {
   "cell_type": "markdown",
   "id": "4ae75c60-9760-4f83-af25-adc40646023d",
   "metadata": {},
   "source": [
    "#### Model Prediction and Performance"
   ]
  },
  {
   "cell_type": "markdown",
   "id": "99780415-14b4-4345-998f-37da36bd3d96",
   "metadata": {},
   "source": [
    "Upon evaluating the predictive models on the validation set, we observed varying performance metrics, with the recall score is a key focus. The result are presented in the table below, sorted by the recall score:"
   ]
  },
  {
   "cell_type": "code",
   "execution_count": 7,
   "id": "2fe98ead-edff-4653-be28-57bdb37cda0d",
   "metadata": {
    "tags": []
   },
   "outputs": [
    {
     "data": {
      "text/html": [
       "<div>\n",
       "<style scoped>\n",
       "    .dataframe tbody tr th:only-of-type {\n",
       "        vertical-align: middle;\n",
       "    }\n",
       "\n",
       "    .dataframe tbody tr th {\n",
       "        vertical-align: top;\n",
       "    }\n",
       "\n",
       "    .dataframe thead th {\n",
       "        text-align: right;\n",
       "    }\n",
       "</style>\n",
       "<table border=\"1\" class=\"dataframe\">\n",
       "  <thead>\n",
       "    <tr style=\"text-align: right;\">\n",
       "      <th></th>\n",
       "      <th>accuracy</th>\n",
       "      <th>precision</th>\n",
       "      <th>recall</th>\n",
       "      <th>f1-score</th>\n",
       "      <th>roc-auc</th>\n",
       "    </tr>\n",
       "  </thead>\n",
       "  <tbody>\n",
       "    <tr>\n",
       "      <th>Decision Tree</th>\n",
       "      <td>0.766176</td>\n",
       "      <td>0.347826</td>\n",
       "      <td>0.750000</td>\n",
       "      <td>0.475248</td>\n",
       "      <td>0.827367</td>\n",
       "    </tr>\n",
       "    <tr>\n",
       "      <th>Decision Tree - SMOTE</th>\n",
       "      <td>0.829412</td>\n",
       "      <td>0.426471</td>\n",
       "      <td>0.604167</td>\n",
       "      <td>0.500000</td>\n",
       "      <td>0.786779</td>\n",
       "    </tr>\n",
       "    <tr>\n",
       "      <th>Gradient Boosting</th>\n",
       "      <td>0.916176</td>\n",
       "      <td>0.782609</td>\n",
       "      <td>0.562500</td>\n",
       "      <td>0.654545</td>\n",
       "      <td>0.836116</td>\n",
       "    </tr>\n",
       "    <tr>\n",
       "      <th>Support Vector Machine</th>\n",
       "      <td>0.842647</td>\n",
       "      <td>0.452991</td>\n",
       "      <td>0.552083</td>\n",
       "      <td>0.497653</td>\n",
       "      <td>0.764421</td>\n",
       "    </tr>\n",
       "    <tr>\n",
       "      <th>Gradient Boosting - SMOTE</th>\n",
       "      <td>0.913235</td>\n",
       "      <td>0.793651</td>\n",
       "      <td>0.520833</td>\n",
       "      <td>0.628931</td>\n",
       "      <td>0.827822</td>\n",
       "    </tr>\n",
       "    <tr>\n",
       "      <th>Random Forest</th>\n",
       "      <td>0.892647</td>\n",
       "      <td>0.657534</td>\n",
       "      <td>0.500000</td>\n",
       "      <td>0.568047</td>\n",
       "      <td>0.815907</td>\n",
       "    </tr>\n",
       "    <tr>\n",
       "      <th>Random Forest - SMOTE</th>\n",
       "      <td>0.861765</td>\n",
       "      <td>0.511905</td>\n",
       "      <td>0.447917</td>\n",
       "      <td>0.477778</td>\n",
       "      <td>0.783604</td>\n",
       "    </tr>\n",
       "    <tr>\n",
       "      <th>Support Vector Machine - SMOTE</th>\n",
       "      <td>0.864706</td>\n",
       "      <td>0.528571</td>\n",
       "      <td>0.385417</td>\n",
       "      <td>0.445783</td>\n",
       "      <td>0.730825</td>\n",
       "    </tr>\n",
       "    <tr>\n",
       "      <th>Logistic Regression</th>\n",
       "      <td>0.875000</td>\n",
       "      <td>0.612245</td>\n",
       "      <td>0.312500</td>\n",
       "      <td>0.413793</td>\n",
       "      <td>0.715308</td>\n",
       "    </tr>\n",
       "    <tr>\n",
       "      <th>Baseline - Mode</th>\n",
       "      <td>0.500000</td>\n",
       "      <td>1.000000</td>\n",
       "      <td>0.000000</td>\n",
       "      <td>0.000000</td>\n",
       "      <td>0.500000</td>\n",
       "    </tr>\n",
       "  </tbody>\n",
       "</table>\n",
       "</div>"
      ],
      "text/plain": [
       "                                accuracy  precision    recall  f1-score   \n",
       "Decision Tree                   0.766176   0.347826  0.750000  0.475248  \\\n",
       "Decision Tree - SMOTE           0.829412   0.426471  0.604167  0.500000   \n",
       "Gradient Boosting               0.916176   0.782609  0.562500  0.654545   \n",
       "Support Vector Machine          0.842647   0.452991  0.552083  0.497653   \n",
       "Gradient Boosting - SMOTE       0.913235   0.793651  0.520833  0.628931   \n",
       "Random Forest                   0.892647   0.657534  0.500000  0.568047   \n",
       "Random Forest - SMOTE           0.861765   0.511905  0.447917  0.477778   \n",
       "Support Vector Machine - SMOTE  0.864706   0.528571  0.385417  0.445783   \n",
       "Logistic Regression             0.875000   0.612245  0.312500  0.413793   \n",
       "Baseline - Mode                 0.500000   1.000000  0.000000  0.000000   \n",
       "\n",
       "                                 roc-auc  \n",
       "Decision Tree                   0.827367  \n",
       "Decision Tree - SMOTE           0.786779  \n",
       "Gradient Boosting               0.836116  \n",
       "Support Vector Machine          0.764421  \n",
       "Gradient Boosting - SMOTE       0.827822  \n",
       "Random Forest                   0.815907  \n",
       "Random Forest - SMOTE           0.783604  \n",
       "Support Vector Machine - SMOTE  0.730825  \n",
       "Logistic Regression             0.715308  \n",
       "Baseline - Mode                 0.500000  "
      ]
     },
     "execution_count": 7,
     "metadata": {},
     "output_type": "execute_result"
    }
   ],
   "source": [
    "all_models.sort_values(by='recall', ascending=False)"
   ]
  },
  {
   "cell_type": "markdown",
   "id": "562c00f0-517c-4efb-b602-6b4ee6b3cf9e",
   "metadata": {},
   "source": [
    "Among the models, the Decision Tree using the 'class_weight = balanced'technique stands out with a recall score of 0.75, alongside with a respectable ROC-AUC score of 0.827."
   ]
  },
  {
   "cell_type": "markdown",
   "id": "eb9f2d2f-3214-4ede-bb12-5d8348d002ae",
   "metadata": {},
   "source": [
    "#### Evaluating Model Performance on Test Set"
   ]
  },
  {
   "cell_type": "markdown",
   "id": "9d26bf1c-db2b-4b2c-b2fa-e374a9c5c75b",
   "metadata": {},
   "source": [
    "We'll see how our model generalized with the unseen data with the test set. This set was split on the data preparation phase."
   ]
  },
  {
   "cell_type": "code",
   "execution_count": 8,
   "id": "4d6622a4-7991-40a1-8aac-5e5a79f95421",
   "metadata": {
    "tags": []
   },
   "outputs": [],
   "source": [
    "import joblib"
   ]
  },
  {
   "cell_type": "code",
   "execution_count": 9,
   "id": "759efb5d-1997-4648-a9d0-cfbc2ff44036",
   "metadata": {
    "tags": []
   },
   "outputs": [],
   "source": [
    "decision_tree = joblib.load('../models/decision_tree.joblib')"
   ]
  },
  {
   "cell_type": "code",
   "execution_count": 10,
   "id": "e2d4bd78-e255-4494-9303-d33c4dc875a1",
   "metadata": {
    "tags": []
   },
   "outputs": [],
   "source": [
    "X_test = pd.read_csv('../data/processed/X_test.csv')\n",
    "y_test = pd.read_csv('../data/processed/y_test.csv')"
   ]
  },
  {
   "cell_type": "code",
   "execution_count": 11,
   "id": "27543f7a-0de4-44f3-93e1-71aca096cfd1",
   "metadata": {
    "tags": []
   },
   "outputs": [],
   "source": [
    "from sklearn.metrics import accuracy_score, precision_score, recall_score, f1_score, roc_auc_score, ConfusionMatrixDisplay"
   ]
  },
  {
   "cell_type": "code",
   "execution_count": 12,
   "id": "40d85ba9-6dce-485f-87f7-b3f7b5bf618b",
   "metadata": {
    "tags": []
   },
   "outputs": [],
   "source": [
    "y_preds = decision_tree.predict(X_test)"
   ]
  },
  {
   "cell_type": "code",
   "execution_count": 13,
   "id": "6e48aaf2-5242-4521-9ff6-c27909ef5790",
   "metadata": {
    "tags": []
   },
   "outputs": [],
   "source": [
    "accuracy = accuracy_score(y_test, y_preds)\n",
    "precision = precision_score(y_test, y_preds)\n",
    "recall = recall_score(y_test, y_preds)\n",
    "f1 = f1_score(y_test, y_preds)\n",
    "roc_auc = roc_auc_score(y_test, y_preds)"
   ]
  },
  {
   "cell_type": "code",
   "execution_count": 14,
   "id": "da921e04-0e31-47a2-8c66-f3938947efdd",
   "metadata": {
    "tags": []
   },
   "outputs": [
    {
     "name": "stdout",
     "output_type": "stream",
     "text": [
      "Accuracy: 0.76\n",
      "Precision: 0.34\n",
      "Recall: 0.79\n",
      "F1-score: 0.48\n",
      "Roc-auc: 0.77\n"
     ]
    }
   ],
   "source": [
    "print(f\"Accuracy: {accuracy:.2f}\")\n",
    "print(f\"Precision: {precision:.2f}\")\n",
    "print(f\"Recall: {recall:.2f}\")\n",
    "print(f\"F1-score: {f1:.2f}\")\n",
    "print(f\"Roc-auc: {roc_auc:.2f}\")"
   ]
  },
  {
   "cell_type": "markdown",
   "id": "00cc1b1e-8dc3-420f-95b9-cd59ff178ffc",
   "metadata": {},
   "source": [
    "This evaluation provides valuable insights into the model's realworld applicability. Its high recall score point its capacity to effectively capture instances of churn, which alligns with our business objective of prioritzing customer retention."
   ]
  },
  {
   "cell_type": "markdown",
   "id": "2616ed85-bb91-4d53-a76f-27f56d81f609",
   "metadata": {},
   "source": [
    "#### Confusion Matrix"
   ]
  },
  {
   "cell_type": "markdown",
   "id": "505af69c-9dc2-44eb-b543-33b4d99f1cce",
   "metadata": {},
   "source": [
    "We further analyze the model's performance by a confusion matrix based on the predictions it made on the test set."
   ]
  },
  {
   "cell_type": "code",
   "execution_count": 15,
   "id": "c9640bd5-e1fb-430d-8ea8-385a9571d1e5",
   "metadata": {
    "tags": []
   },
   "outputs": [
    {
     "data": {
      "text/plain": [
       "<sklearn.metrics._plot.confusion_matrix.ConfusionMatrixDisplay at 0x11ffc9880>"
      ]
     },
     "execution_count": 15,
     "metadata": {},
     "output_type": "execute_result"
    },
    {
     "data": {
      "image/png": "[encoded data removed]",
      "text/plain": [
       "<Figure size 640x480 with 2 Axes>"
      ]
     },
     "metadata": {},
     "output_type": "display_data"
    }
   ],
   "source": [
    "ConfusionMatrixDisplay.from_estimator(decision_tree, X_test, y_test, normalize='true')"
   ]
  },
  {
   "cell_type": "markdown",
   "id": "952e2a4d-b373-44f4-a8cf-9ce0db3c27bc",
   "metadata": {},
   "source": [
    "- **True Positives (TP):** The model accurately predicted approximately 78% of the actual churn cases. These instances involve customers who were correctly identified as likely to churn and indeed did churn.\n",
    "\n",
    "- **True Negatives (TN):** Around 75% of non-churn instances were correctly predicted by the model. These cases encompass customers who were correctly identified as unlikely to churn and indeed did not churn.\n",
    "\n",
    "- **False Positives (FP):** Approximately 25% of cases were erroneously predicted as churn. These scenarios entail instances where the model predicted churn, but the customers did not actually churn. This can be interpreted as a \"false alarm\" situation.\n",
    "\n",
    "- **False Negatives (FN):** About 23% of actual churn cases were overlooked by the model. These situations comprise cases where the model predicted no churn, but the customers did churn. This highlights an area where we aim to enhance performance to improve recall."
   ]
  },
  {
   "cell_type": "markdown",
   "id": "a0053dbf-c983-4ef8-84cd-5f064fac85e4",
   "metadata": {},
   "source": [
    "### Emphasis on Recall and Business Implications\n",
    "\n",
    "The model's high recall score of 0.78 pointing our focus on the business objective of accurately identifying potential churn cases. However, this emphasis on recall results in a trade-off, evident in the number of false positives. In such cases, some non-churning customers are misclassified as potential churners. This trade-off emphasizes the significance of striking a balance between recall and precision, in line with business priorities.\n",
    "\n",
    "These findings suggest that while proactive efforts might be directed at customers who may not ultimately churn, the strategy is fundamentally proactive and preventive. This strategy contributes to the retention of a higher proportion of actual churn cases. As the business landscape evolves, continuous monitoring and adjustments will be critical to ensuring the model's performance aligns effectively with business goals."
   ]
  },
  {
   "cell_type": "markdown",
   "id": "acfffac1-cf8e-4560-be7d-2764ba3a0d9f",
   "metadata": {
    "tags": []
   },
   "source": [
    "## Limitations of the CRISP-DM Methodology\n",
    "\n",
    "While the CRISP-DM provides a structured framework to follow, there are potential limitations to this methodology:\n",
    "\n",
    "**1. Linear Sequential Phases:**\n",
    "CRISP-DM follows a direct linear sequence of phases, starting from Business Understanding to Deployment. However, in real-world scenarios, some projects may require iterations or revisiting previous phases due to evolving business requirements or unexpected challenges. For example, during the data preparation stage, I chose to address the imbalanced dataset using SMOTE. However, during the process of building a predictive model, I realized that the oversampling technique might not adequately address the nature of the imbalanced dataset. As a result, I needed to revisit the data preparation phase and apply the class_weight = balanced technique.\n",
    "\n",
    "**2. Lack of Emphasis on EDA:**\n",
    "Another limitation relates to the emphasis on Exploratory Data Analysis (EDA):\n",
    "\n",
    "While CRISP-DM includes a Data Understanding phase, it does not explicitly highlight the importance of thorough Exploratory Data Analysis (EDA) in uncovering insights that can significantly impact subsequent phases. For instance, during the Data Understanding phase of my project guided by CRISP-DM, I recognized the essential nature of conducting comprehensive EDA. It was during this phase that I discovered certain features exhibited skewed distributions and displayed outliers, indicating potential data quality issues. Neglecting to address these concerns appropriately could potentially impact subsequent phases, particularly the modeling process. Without conducting a thorough EDA, these critical data characteristics might have been overlooked, ultimately resulting in inaccurate business insights.\n",
    "\n",
    "**3. Limited Guidance on Data Preprocessing Phase:**\n",
    "Furthermore, a limitation lies in the guidance provided for the Data Preprocessing phase:\n",
    "\n",
    "In real-world scenarios, datasets can be messy and may contain outliers or exhibit imbalanced class distributions. In our project focused on customer churn prediction, we encountered a dataset with imbalanced classes where the number of churn cases was significantly lower than non-churn cases. While CRISP-DM offered a structured roadmap, it did not offer explicit directions on best practices for addressing these challenges. Consequently, we needed to independently explore and implement methods like the Synthetic Minority Over-sampling Technique (SMOTE) to balance the dataset and make informed decisions regarding outlier treatment. This required seeking external resources and conducting additional research to ensure the robustness of our analysis.\n",
    "\n",
    "**4. Limited Guidance on Model Selection Phase:**\n",
    "Another limitation became apparent during the Model Selection phase:\n",
    "\n",
    "CRISP-DM provides a structured approach to building and evaluating models, but it lacks detailed guidance on advanced model selection techniques and hyperparameter tuning. For example, during the model evaluation phase, I utilized common metrics such as accuracy, precision, recall, and roc-auc to assess model performance. While the framework does offer a structured approach, it may not comprehensively cover advanced techniques. Whether this is a limitation depends on the perspective and context of the user.\n",
    "\n",
    "**5. Inadequate Consideration of Business Domain Knowledge:**\n",
    "Finally, an additional limitation is the framework's inadequate consideration of business domain knowledge:\n",
    "\n",
    "While CRISP-DM provides a comprehensive framework for data mining and modeling, it does not highlight the importance of integrating domain knowledge. In my project, the emphasis on recall and its trade-off with precision reflects a deep understanding of the telecommunications business domain.\n",
    "\n",
    "In summary, while CRISP-DM is designed to be a flexible and adaptable framework, allowing users to tailor their approach, these limitations highlight areas where the framework might benefit from enhancements or where users should supplement their expertise to ensure optimal outcomes.\n"
   ]
  },
  {
   "cell_type": "markdown",
   "id": "6ce64f97-6137-470f-af40-05588fbcdb82",
   "metadata": {},
   "source": [
    "## Cost Analysis in Tunning the Models"
   ]
  },
  {
   "cell_type": "markdown",
   "id": "22d2d42a-12e8-4740-9b56-89f8d9df661c",
   "metadata": {},
   "source": [
    "### Cost of False Negatives (Predicted Not Churning, but Actually Does):\n",
    "False negatives are cases where the model predicts that a customer will not churn, but they actually do churn. The potential cost are as follow:\n",
    "\n",
    "#### 1. Loss of Revenue:\n",
    "When a customer churns, the company loses the revenue generated from their subscription. We'll assume the average monthly revenue. We will assume that average monthly revenue generated from a customer's subscription is $41. (https://www.canstarblue.com.au/phone/average-mobile-phone-bill/#:~:text=The%20average%20postpaid%20phone%20plan,in%20Tasmania%20are%20paying%20more.)\n",
    "\n",
    "#### 2. Churn Recovery Cost:\n",
    "If a customer churns, the company need to invest resources in targeted retention efforts to win the customer back. This include offering discounts, promotions. We will assume the average cost of retention is $30 per customer.\n",
    "\n",
    "#### 3. Opportunity Cost:\n",
    "Missed opportunities for upselling, cross-selling and other revenue generating activites from churned customer. We'll assume the average revenue generated from additional cost is $200.\n",
    "\n",
    "#### 4. Customer Lifetime Value:\n",
    "If a customer stays with us for an extended period, they generate revenue over time. Let's assume the average lifetime value of a retained customer is (clv = customer value * average customer life span)\n",
    "Average account_length = 100 month -> (41 * 100) = $4100 per customer.\n",
    "\n",
    "#### Total costs of False Negatives:\n",
    "Total Cost = Loss of Revenue + Churn Recovery Cost + Opportunity Cost + Customer Lifetime Value\n",
    "\n",
    "Total Cost = ($41 * A) + ($30 * A) + ($200 * A) + ($4100 * A)\n",
    "\n",
    "```\n",
    "Total Cost of Fasle Negatives = $4371 * A \n",
    "```\n",
    "Where \"A\" represents the number of False Negative prediction by the models\n"
   ]
  },
  {
   "cell_type": "markdown",
   "id": "e832bd52-e1ac-484c-bd76-9ac4d7079f26",
   "metadata": {},
   "source": [
    "### Cost of False Positives (Predicted Churning, but Actually Doesn't):\n",
    "False positives are cases where the model predicts that a customer will churn, but they actually do not. The potential cost are as follow:\n",
    "\n",
    "#### 1. Retention Costs:\n",
    "Average cost of retention per customer: $30\n",
    "\n",
    "#### 2. Marketing Costs:\n",
    "Cost incurred in targeted marketing and retention efforts for customers predicted to churn but actually does not. We will assume the avearge marketing cost loses per customer of $50 \n",
    "\n",
    "#### 3. Opportunity Cost:\n",
    "The opportunity cost in the context of false positives refers to the potential benefits or revenue that a company misses out on when it invests resources in retaining customers predicted to churn but who ultimately don't. These resources could have been better used to target customers who truly need retention efforts. We'll assume opportunity cost of $200 per customer.\n",
    "\n",
    "#### Total costs of False Positives:\n",
    "Total Cost = Retention Cost + Marketing Cost + Opportunity Cost \n",
    "\n",
    "Total Cost = ($30 * B) + ($50 * B) + ($200 * B)\n",
    "\n",
    "```\n",
    "Total Cost of False Positives = $280 * B\n",
    "```\n",
    "\n",
    "Where \"B\" represents the number of False Positives prediction by the models."
   ]
  },
  {
   "cell_type": "markdown",
   "id": "05752dd5-d960-4533-b0c2-afa625339bb9",
   "metadata": {},
   "source": [
    "### Cost Analysis on Decision Tree using Algorithmic Approach (class_weight='balanced')"
   ]
  },
  {
   "cell_type": "code",
   "execution_count": 16,
   "id": "8b733903-5d25-468a-a78f-c927736b7bc8",
   "metadata": {},
   "outputs": [
    {
     "data": {
      "text/plain": [
       "<sklearn.metrics._plot.confusion_matrix.ConfusionMatrixDisplay at 0x16e1057f0>"
      ]
     },
     "execution_count": 16,
     "metadata": {},
     "output_type": "execute_result"
    },
    {
     "data": {
      "image/png": "[encoded data removed]",
      "text/plain": [
       "<Figure size 640x480 with 2 Axes>"
      ]
     },
     "metadata": {},
     "output_type": "display_data"
    }
   ],
   "source": [
    "ConfusionMatrixDisplay.from_estimator(decision_tree, X_test, y_test)"
   ]
  },
  {
   "cell_type": "code",
   "execution_count": 25,
   "id": "9d3df6e0-0ea4-4a48-9232-23d15c25041f",
   "metadata": {
    "tags": []
   },
   "outputs": [],
   "source": [
    "def cost_analysis(fn, fp):\n",
    "    cost_fn = 4371 * fn\n",
    "    cost_fp = 280 * fp\n",
    "    total_cost = cost_fn + cost_fp\n",
    "    \n",
    "    print(f\"Total Cost of False Negatives: ${cost_fn}\\nTotal Cost of False Positives: ${cost_fp}\\nTotal Cost Loss: ${total_cost}\")"
   ]
  },
  {
   "cell_type": "code",
   "execution_count": 26,
   "id": "184d3822-ccdd-4e5c-bfb9-516f3a6fdaaa",
   "metadata": {
    "tags": []
   },
   "outputs": [
    {
     "name": "stdout",
     "output_type": "stream",
     "text": [
      "Total Cost of False Negatives: $109275\n",
      "Total Cost of False Positives: $50680\n",
      "Total Cost Loss: $159955\n"
     ]
    }
   ],
   "source": [
    "cost_analysis(25, 181)"
   ]
  }
 ],
 "metadata": {
  "kernelspec": {
   "display_name": "Python 3 (ipykernel)",
   "language": "python",
   "name": "python3"
  },
  "language_info": {
   "codemirror_mode": {
    "name": "ipython",
    "version": 3
   },
   "file_extension": ".py",
   "mimetype": "text/x-python",
   "name": "python",
   "nbconvert_exporter": "python",
   "pygments_lexer": "ipython3",
   "version": "3.9.13"
  }
 },
 "nbformat": 4,
 "nbformat_minor": 5
}
